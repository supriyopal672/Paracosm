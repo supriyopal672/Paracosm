{
  "cells": [
    {
      "cell_type": "code",
      "execution_count": 1,
      "metadata": {
        "id": "gZhqxpznOZWS"
      },
      "outputs": [],
      "source": [
        "import pandas as pd\n",
        "import numpy as np\n",
        "import requests\n",
        "import bs4 as bs\n",
        "import urllib.request"
      ]
    },
    {
      "cell_type": "markdown",
      "metadata": {
        "id": "xhXPbpjhOZWT"
      },
      "source": [
        "## Extracting features of 2022 movies from Wikipedia"
      ]
    },
    {
      "cell_type": "code",
      "execution_count": 2,
      "metadata": {
        "id": "1o9WJASWOZWT"
      },
      "outputs": [],
      "source": [
        "link = \"https://en.wikipedia.org/wiki/List_of_American_films_of_2022\""
      ]
    },
    {
      "cell_type": "code",
      "execution_count": 3,
      "metadata": {
        "id": "TIlfZhgwOZWT"
      },
      "outputs": [],
      "source": [
        "source = urllib.request.urlopen(link).read()\n",
        "soup = bs.BeautifulSoup(source,'lxml')"
      ]
    },
    {
      "cell_type": "code",
      "execution_count": 4,
      "metadata": {
        "id": "LFytQ2MaOZWT"
      },
      "outputs": [],
      "source": [
        "tables = soup.find_all('table',class_='wikitable sortable')"
      ]
    },
    {
      "cell_type": "code",
      "execution_count": 5,
      "metadata": {
        "colab": {
          "base_uri": "https://localhost:8080/"
        },
        "id": "CdSLuBzGOZWT",
        "outputId": "a59c27fc-00d2-4acd-e5c8-3dd746d78baa"
      },
      "outputs": [
        {
          "data": {
            "text/plain": [
              "4"
            ]
          },
          "execution_count": 5,
          "metadata": {},
          "output_type": "execute_result"
        }
      ],
      "source": [
        "len(tables)"
      ]
    },
    {
      "cell_type": "code",
      "execution_count": 6,
      "metadata": {
        "colab": {
          "base_uri": "https://localhost:8080/"
        },
        "id": "VoX7c9O-OZWU",
        "outputId": "78637bfa-e750-4c01-df0a-c791c80097b3"
      },
      "outputs": [
        {
          "data": {
            "text/plain": [
              "bs4.element.Tag"
            ]
          },
          "execution_count": 6,
          "metadata": {},
          "output_type": "execute_result"
        }
      ],
      "source": [
        "type(tables[0])"
      ]
    },
    {
      "cell_type": "code",
      "execution_count": 7,
      "metadata": {
        "id": "1y2cECOMOZWU"
      },
      "outputs": [],
      "source": [
        "df1 = pd.read_html(str(tables[0]))[0]\n",
        "df2 = pd.read_html(str(tables[1]))[0]\n",
        "df3 = pd.read_html(str(tables[2]))[0]\n",
        "df4 = pd.read_html(str(tables[3]).replace(\"'1\\\"\\'\",'\"1\"'))[0] # avoided \"ValueError: invalid literal for int() with base 10: '1\"'"
      ]
    },
    {
      "cell_type": "code",
      "execution_count": 8,
      "metadata": {
        "id": "t4MN1gZbOZWU"
      },
      "outputs": [
        {
          "name": "stderr",
          "output_type": "stream",
          "text": [
            "C:\\Users\\Dipanjan Dhar\\AppData\\Local\\Temp\\ipykernel_10692\\1752420719.py:1: FutureWarning: The frame.append method is deprecated and will be removed from pandas in a future version. Use pandas.concat instead.\n",
            "  df = df1.append(df2.append(df3.append(df4,ignore_index=True),ignore_index=True),ignore_index=True)\n"
          ]
        }
      ],
      "source": [
        "df = df1.append(df2.append(df3.append(df4,ignore_index=True),ignore_index=True),ignore_index=True)"
      ]
    },
    {
      "cell_type": "code",
      "execution_count": 9,
      "metadata": {
        "colab": {
          "base_uri": "https://localhost:8080/",
          "height": 406
        },
        "id": "4CCunB-rOZWU",
        "outputId": "a4d69bcd-088c-4655-a445-e8ebafdb10e6"
      },
      "outputs": [
        {
          "data": {
            "text/html": [
              "<div>\n",
              "<style scoped>\n",
              "    .dataframe tbody tr th:only-of-type {\n",
              "        vertical-align: middle;\n",
              "    }\n",
              "\n",
              "    .dataframe tbody tr th {\n",
              "        vertical-align: top;\n",
              "    }\n",
              "\n",
              "    .dataframe thead th {\n",
              "        text-align: right;\n",
              "    }\n",
              "</style>\n",
              "<table border=\"1\" class=\"dataframe\">\n",
              "  <thead>\n",
              "    <tr style=\"text-align: right;\">\n",
              "      <th></th>\n",
              "      <th>Opening</th>\n",
              "      <th>Opening.1</th>\n",
              "      <th>Title</th>\n",
              "      <th>Production company</th>\n",
              "      <th>Cast and crew</th>\n",
              "      <th>.mw-parser-output .tooltip-dotted{border-bottom:1px dotted;cursor:help}Ref.</th>\n",
              "      <th>Ref.</th>\n",
              "    </tr>\n",
              "  </thead>\n",
              "  <tbody>\n",
              "    <tr>\n",
              "      <th>0</th>\n",
              "      <td>J A N U A R Y</td>\n",
              "      <td>7.0</td>\n",
              "      <td>The 355</td>\n",
              "      <td>Universal Pictures / Freckle Films / FilmNatio...</td>\n",
              "      <td>Simon Kinberg (director/screenplay); Theresa R...</td>\n",
              "      <td>[2]</td>\n",
              "      <td>NaN</td>\n",
              "    </tr>\n",
              "    <tr>\n",
              "      <th>1</th>\n",
              "      <td>J A N U A R Y</td>\n",
              "      <td>7.0</td>\n",
              "      <td>The Legend of La Llorona</td>\n",
              "      <td>Saban Films</td>\n",
              "      <td>Patricia Harris Seeley (director/screenplay); ...</td>\n",
              "      <td>[3]</td>\n",
              "      <td>NaN</td>\n",
              "    </tr>\n",
              "    <tr>\n",
              "      <th>2</th>\n",
              "      <td>J A N U A R Y</td>\n",
              "      <td>7.0</td>\n",
              "      <td>The Commando</td>\n",
              "      <td>Saban Films</td>\n",
              "      <td>Asif Akbar (director); Koji Steven Sakai (scre...</td>\n",
              "      <td>[4]</td>\n",
              "      <td>NaN</td>\n",
              "    </tr>\n",
              "    <tr>\n",
              "      <th>3</th>\n",
              "      <td>J A N U A R Y</td>\n",
              "      <td>7.0</td>\n",
              "      <td>American Siege</td>\n",
              "      <td>Vertical Entertainment</td>\n",
              "      <td>Edward Drake (director/screenplay); Timothy V....</td>\n",
              "      <td>[5]</td>\n",
              "      <td>NaN</td>\n",
              "    </tr>\n",
              "    <tr>\n",
              "      <th>4</th>\n",
              "      <td>J A N U A R Y</td>\n",
              "      <td>14.0</td>\n",
              "      <td>Scream</td>\n",
              "      <td>Paramount Pictures / Spyglass Media Group</td>\n",
              "      <td>Matt Bettinelli-Olpin, Tyler Gillett (director...</td>\n",
              "      <td>[6]</td>\n",
              "      <td>NaN</td>\n",
              "    </tr>\n",
              "    <tr>\n",
              "      <th>...</th>\n",
              "      <td>...</td>\n",
              "      <td>...</td>\n",
              "      <td>...</td>\n",
              "      <td>...</td>\n",
              "      <td>...</td>\n",
              "      <td>...</td>\n",
              "      <td>...</td>\n",
              "    </tr>\n",
              "    <tr>\n",
              "      <th>325</th>\n",
              "      <td>D E C E M B E R</td>\n",
              "      <td>30.0</td>\n",
              "      <td>Alice, Darling</td>\n",
              "      <td>Lionsgate / Elevation Pictures</td>\n",
              "      <td>Mary Nighy (director); Alanna Francis (screenp...</td>\n",
              "      <td>NaN</td>\n",
              "      <td>[265]</td>\n",
              "    </tr>\n",
              "    <tr>\n",
              "      <th>326</th>\n",
              "      <td>D E C E M B E R</td>\n",
              "      <td>NaN</td>\n",
              "      <td>NaN</td>\n",
              "      <td>NaN</td>\n",
              "      <td>NaN</td>\n",
              "      <td>NaN</td>\n",
              "      <td>NaN</td>\n",
              "    </tr>\n",
              "    <tr>\n",
              "      <th>327</th>\n",
              "      <td>D E C E M B E R</td>\n",
              "      <td>NaN</td>\n",
              "      <td>NaN</td>\n",
              "      <td>NaN</td>\n",
              "      <td>NaN</td>\n",
              "      <td>NaN</td>\n",
              "      <td>NaN</td>\n",
              "    </tr>\n",
              "    <tr>\n",
              "      <th>328</th>\n",
              "      <td>D E C E M B E R</td>\n",
              "      <td>NaN</td>\n",
              "      <td>NaN</td>\n",
              "      <td>NaN</td>\n",
              "      <td>NaN</td>\n",
              "      <td>NaN</td>\n",
              "      <td>NaN</td>\n",
              "    </tr>\n",
              "    <tr>\n",
              "      <th>329</th>\n",
              "      <td>D E C E M B E R</td>\n",
              "      <td>NaN</td>\n",
              "      <td>NaN</td>\n",
              "      <td>NaN</td>\n",
              "      <td>NaN</td>\n",
              "      <td>NaN</td>\n",
              "      <td>NaN</td>\n",
              "    </tr>\n",
              "  </tbody>\n",
              "</table>\n",
              "<p>330 rows × 7 columns</p>\n",
              "</div>"
            ],
            "text/plain": [
              "             Opening  Opening.1                     Title  \\\n",
              "0      J A N U A R Y        7.0                   The 355   \n",
              "1      J A N U A R Y        7.0  The Legend of La Llorona   \n",
              "2      J A N U A R Y        7.0              The Commando   \n",
              "3      J A N U A R Y        7.0            American Siege   \n",
              "4      J A N U A R Y       14.0                    Scream   \n",
              "..               ...        ...                       ...   \n",
              "325  D E C E M B E R       30.0            Alice, Darling   \n",
              "326  D E C E M B E R        NaN                       NaN   \n",
              "327  D E C E M B E R        NaN                       NaN   \n",
              "328  D E C E M B E R        NaN                       NaN   \n",
              "329  D E C E M B E R        NaN                       NaN   \n",
              "\n",
              "                                    Production company  \\\n",
              "0    Universal Pictures / Freckle Films / FilmNatio...   \n",
              "1                                          Saban Films   \n",
              "2                                          Saban Films   \n",
              "3                               Vertical Entertainment   \n",
              "4            Paramount Pictures / Spyglass Media Group   \n",
              "..                                                 ...   \n",
              "325                     Lionsgate / Elevation Pictures   \n",
              "326                                                NaN   \n",
              "327                                                NaN   \n",
              "328                                                NaN   \n",
              "329                                                NaN   \n",
              "\n",
              "                                         Cast and crew  \\\n",
              "0    Simon Kinberg (director/screenplay); Theresa R...   \n",
              "1    Patricia Harris Seeley (director/screenplay); ...   \n",
              "2    Asif Akbar (director); Koji Steven Sakai (scre...   \n",
              "3    Edward Drake (director/screenplay); Timothy V....   \n",
              "4    Matt Bettinelli-Olpin, Tyler Gillett (director...   \n",
              "..                                                 ...   \n",
              "325  Mary Nighy (director); Alanna Francis (screenp...   \n",
              "326                                                NaN   \n",
              "327                                                NaN   \n",
              "328                                                NaN   \n",
              "329                                                NaN   \n",
              "\n",
              "    .mw-parser-output .tooltip-dotted{border-bottom:1px dotted;cursor:help}Ref.  \\\n",
              "0                                                  [2]                            \n",
              "1                                                  [3]                            \n",
              "2                                                  [4]                            \n",
              "3                                                  [5]                            \n",
              "4                                                  [6]                            \n",
              "..                                                 ...                            \n",
              "325                                                NaN                            \n",
              "326                                                NaN                            \n",
              "327                                                NaN                            \n",
              "328                                                NaN                            \n",
              "329                                                NaN                            \n",
              "\n",
              "      Ref.  \n",
              "0      NaN  \n",
              "1      NaN  \n",
              "2      NaN  \n",
              "3      NaN  \n",
              "4      NaN  \n",
              "..     ...  \n",
              "325  [265]  \n",
              "326    NaN  \n",
              "327    NaN  \n",
              "328    NaN  \n",
              "329    NaN  \n",
              "\n",
              "[330 rows x 7 columns]"
            ]
          },
          "execution_count": 9,
          "metadata": {},
          "output_type": "execute_result"
        }
      ],
      "source": [
        "df"
      ]
    },
    {
      "cell_type": "code",
      "execution_count": 10,
      "metadata": {
        "id": "9enI6QkuOZWV"
      },
      "outputs": [],
      "source": [
        "df_2021 = df[['Title','Cast and crew']]"
      ]
    },
    {
      "cell_type": "code",
      "execution_count": 11,
      "metadata": {
        "colab": {
          "base_uri": "https://localhost:8080/",
          "height": 406
        },
        "id": "RT0jPJQQOZWV",
        "outputId": "2d6ab58f-996f-4099-e7bb-3e29abadf43c"
      },
      "outputs": [
        {
          "data": {
            "text/html": [
              "<div>\n",
              "<style scoped>\n",
              "    .dataframe tbody tr th:only-of-type {\n",
              "        vertical-align: middle;\n",
              "    }\n",
              "\n",
              "    .dataframe tbody tr th {\n",
              "        vertical-align: top;\n",
              "    }\n",
              "\n",
              "    .dataframe thead th {\n",
              "        text-align: right;\n",
              "    }\n",
              "</style>\n",
              "<table border=\"1\" class=\"dataframe\">\n",
              "  <thead>\n",
              "    <tr style=\"text-align: right;\">\n",
              "      <th></th>\n",
              "      <th>Title</th>\n",
              "      <th>Cast and crew</th>\n",
              "    </tr>\n",
              "  </thead>\n",
              "  <tbody>\n",
              "    <tr>\n",
              "      <th>0</th>\n",
              "      <td>The 355</td>\n",
              "      <td>Simon Kinberg (director/screenplay); Theresa R...</td>\n",
              "    </tr>\n",
              "    <tr>\n",
              "      <th>1</th>\n",
              "      <td>The Legend of La Llorona</td>\n",
              "      <td>Patricia Harris Seeley (director/screenplay); ...</td>\n",
              "    </tr>\n",
              "    <tr>\n",
              "      <th>2</th>\n",
              "      <td>The Commando</td>\n",
              "      <td>Asif Akbar (director); Koji Steven Sakai (scre...</td>\n",
              "    </tr>\n",
              "    <tr>\n",
              "      <th>3</th>\n",
              "      <td>American Siege</td>\n",
              "      <td>Edward Drake (director/screenplay); Timothy V....</td>\n",
              "    </tr>\n",
              "    <tr>\n",
              "      <th>4</th>\n",
              "      <td>Scream</td>\n",
              "      <td>Matt Bettinelli-Olpin, Tyler Gillett (director...</td>\n",
              "    </tr>\n",
              "    <tr>\n",
              "      <th>...</th>\n",
              "      <td>...</td>\n",
              "      <td>...</td>\n",
              "    </tr>\n",
              "    <tr>\n",
              "      <th>325</th>\n",
              "      <td>Alice, Darling</td>\n",
              "      <td>Mary Nighy (director); Alanna Francis (screenp...</td>\n",
              "    </tr>\n",
              "    <tr>\n",
              "      <th>326</th>\n",
              "      <td>NaN</td>\n",
              "      <td>NaN</td>\n",
              "    </tr>\n",
              "    <tr>\n",
              "      <th>327</th>\n",
              "      <td>NaN</td>\n",
              "      <td>NaN</td>\n",
              "    </tr>\n",
              "    <tr>\n",
              "      <th>328</th>\n",
              "      <td>NaN</td>\n",
              "      <td>NaN</td>\n",
              "    </tr>\n",
              "    <tr>\n",
              "      <th>329</th>\n",
              "      <td>NaN</td>\n",
              "      <td>NaN</td>\n",
              "    </tr>\n",
              "  </tbody>\n",
              "</table>\n",
              "<p>330 rows × 2 columns</p>\n",
              "</div>"
            ],
            "text/plain": [
              "                        Title  \\\n",
              "0                     The 355   \n",
              "1    The Legend of La Llorona   \n",
              "2                The Commando   \n",
              "3              American Siege   \n",
              "4                      Scream   \n",
              "..                        ...   \n",
              "325            Alice, Darling   \n",
              "326                       NaN   \n",
              "327                       NaN   \n",
              "328                       NaN   \n",
              "329                       NaN   \n",
              "\n",
              "                                         Cast and crew  \n",
              "0    Simon Kinberg (director/screenplay); Theresa R...  \n",
              "1    Patricia Harris Seeley (director/screenplay); ...  \n",
              "2    Asif Akbar (director); Koji Steven Sakai (scre...  \n",
              "3    Edward Drake (director/screenplay); Timothy V....  \n",
              "4    Matt Bettinelli-Olpin, Tyler Gillett (director...  \n",
              "..                                                 ...  \n",
              "325  Mary Nighy (director); Alanna Francis (screenp...  \n",
              "326                                                NaN  \n",
              "327                                                NaN  \n",
              "328                                                NaN  \n",
              "329                                                NaN  \n",
              "\n",
              "[330 rows x 2 columns]"
            ]
          },
          "execution_count": 11,
          "metadata": {},
          "output_type": "execute_result"
        }
      ],
      "source": [
        "df_2021"
      ]
    },
    {
      "cell_type": "code",
      "execution_count": 12,
      "metadata": {
        "colab": {
          "base_uri": "https://localhost:8080/"
        },
        "id": "KYTIVryiOkeW",
        "outputId": "629f16ee-2aa7-4b7f-8393-09afdefef5d5"
      },
      "outputs": [
        {
          "name": "stdout",
          "output_type": "stream",
          "text": [
            "Defaulting to user installation because normal site-packages is not writeable\n",
            "Requirement already satisfied: tmdbv3api in c:\\program files\\python38\\lib\\site-packages (1.7.7)\n",
            "Requirement already satisfied: requests in c:\\program files\\python38\\lib\\site-packages (from tmdbv3api) (2.27.1)\n",
            "Requirement already satisfied: charset-normalizer~=2.0.0 in c:\\program files\\python38\\lib\\site-packages (from requests->tmdbv3api) (2.0.12)\n",
            "Requirement already satisfied: urllib3<1.27,>=1.21.1 in c:\\program files\\python38\\lib\\site-packages (from requests->tmdbv3api) (1.26.8)\n",
            "Requirement already satisfied: certifi>=2017.4.17 in c:\\program files\\python38\\lib\\site-packages (from requests->tmdbv3api) (2021.10.8)\n",
            "Requirement already satisfied: idna<4,>=2.5 in c:\\program files\\python38\\lib\\site-packages (from requests->tmdbv3api) (3.3)\n"
          ]
        },
        {
          "name": "stderr",
          "output_type": "stream",
          "text": [
            "WARNING: Ignoring invalid distribution -andas (c:\\program files\\python38\\lib\\site-packages)\n",
            "WARNING: Ignoring invalid distribution -andas (c:\\program files\\python38\\lib\\site-packages)\n",
            "WARNING: Ignoring invalid distribution -andas (c:\\program files\\python38\\lib\\site-packages)\n",
            "WARNING: Ignoring invalid distribution -andas (c:\\program files\\python38\\lib\\site-packages)\n",
            "WARNING: Ignoring invalid distribution -andas (c:\\program files\\python38\\lib\\site-packages)\n",
            "WARNING: Ignoring invalid distribution -andas (c:\\program files\\python38\\lib\\site-packages)\n"
          ]
        }
      ],
      "source": [
        "!pip install tmdbv3api"
      ]
    },
    {
      "cell_type": "code",
      "execution_count": 13,
      "metadata": {
        "id": "61XvcEzPOZWV"
      },
      "outputs": [],
      "source": [
        "from tmdbv3api import TMDb\n",
        "import json\n",
        "import requests\n",
        "tmdb = TMDb()\n",
        "tmdb.api_key = '71b41c0bf036bd0a8917fbc020e0a79d'"
      ]
    },
    {
      "cell_type": "code",
      "execution_count": 14,
      "metadata": {
        "id": "_4q66M86OfgF"
      },
      "outputs": [],
      "source": [
        "from tmdbv3api import Movie\n",
        "tmdb_movie = Movie() \n",
        "def get_genre(x):\n",
        "    genres = []\n",
        "    result = tmdb_movie.search(x)\n",
        "    if not result:\n",
        "      return np.NaN\n",
        "    else:\n",
        "      movie_id = result[0].id\n",
        "      response = requests.get('https://api.themoviedb.org/3/movie/{}?api_key={}'.format(movie_id,tmdb.api_key))\n",
        "      data_json = response.json()\n",
        "      if data_json['genres']:\n",
        "          genre_str = \" \" \n",
        "          for i in range(0,len(data_json['genres'])):\n",
        "              genres.append(data_json['genres'][i]['name'])\n",
        "          return genre_str.join(genres)\n",
        "      else:\n",
        "          return np.NaN"
      ]
    },
    {
      "cell_type": "code",
      "execution_count": 15,
      "metadata": {
        "colab": {
          "base_uri": "https://localhost:8080/"
        },
        "id": "uSjX4AsmOZWV",
        "outputId": "da21d28b-1f7a-4171-8b87-2eabcc897a8d",
        "scrolled": true
      },
      "outputs": [
        {
          "name": "stderr",
          "output_type": "stream",
          "text": [
            "C:\\Users\\Dipanjan Dhar\\AppData\\Local\\Temp\\ipykernel_10692\\3587185986.py:1: SettingWithCopyWarning: \n",
            "A value is trying to be set on a copy of a slice from a DataFrame.\n",
            "Try using .loc[row_indexer,col_indexer] = value instead\n",
            "\n",
            "See the caveats in the documentation: https://pandas.pydata.org/pandas-docs/stable/user_guide/indexing.html#returning-a-view-versus-a-copy\n",
            "  df_2021['genres'] = df_2021['Title'].map(lambda x: get_genre(str(x)))\n"
          ]
        }
      ],
      "source": [
        "df_2021['genres'] = df_2021['Title'].map(lambda x: get_genre(str(x)))"
      ]
    },
    {
      "cell_type": "code",
      "execution_count": 16,
      "metadata": {
        "colab": {
          "base_uri": "https://localhost:8080/",
          "height": 406
        },
        "id": "aiwOqJZMOZWV",
        "outputId": "032dfad5-985e-4d24-9fed-ed92c9edfba3"
      },
      "outputs": [
        {
          "data": {
            "text/html": [
              "<div>\n",
              "<style scoped>\n",
              "    .dataframe tbody tr th:only-of-type {\n",
              "        vertical-align: middle;\n",
              "    }\n",
              "\n",
              "    .dataframe tbody tr th {\n",
              "        vertical-align: top;\n",
              "    }\n",
              "\n",
              "    .dataframe thead th {\n",
              "        text-align: right;\n",
              "    }\n",
              "</style>\n",
              "<table border=\"1\" class=\"dataframe\">\n",
              "  <thead>\n",
              "    <tr style=\"text-align: right;\">\n",
              "      <th></th>\n",
              "      <th>Title</th>\n",
              "      <th>Cast and crew</th>\n",
              "      <th>genres</th>\n",
              "    </tr>\n",
              "  </thead>\n",
              "  <tbody>\n",
              "    <tr>\n",
              "      <th>0</th>\n",
              "      <td>The 355</td>\n",
              "      <td>Simon Kinberg (director/screenplay); Theresa R...</td>\n",
              "      <td>Action Thriller</td>\n",
              "    </tr>\n",
              "    <tr>\n",
              "      <th>1</th>\n",
              "      <td>The Legend of La Llorona</td>\n",
              "      <td>Patricia Harris Seeley (director/screenplay); ...</td>\n",
              "      <td>Family Animation Fantasy</td>\n",
              "    </tr>\n",
              "    <tr>\n",
              "      <th>2</th>\n",
              "      <td>The Commando</td>\n",
              "      <td>Asif Akbar (director); Koji Steven Sakai (scre...</td>\n",
              "      <td>Action Crime Thriller</td>\n",
              "    </tr>\n",
              "    <tr>\n",
              "      <th>3</th>\n",
              "      <td>American Siege</td>\n",
              "      <td>Edward Drake (director/screenplay); Timothy V....</td>\n",
              "      <td>Action Thriller Crime Drama</td>\n",
              "    </tr>\n",
              "    <tr>\n",
              "      <th>4</th>\n",
              "      <td>Scream</td>\n",
              "      <td>Matt Bettinelli-Olpin, Tyler Gillett (director...</td>\n",
              "      <td>Horror Mystery Thriller</td>\n",
              "    </tr>\n",
              "    <tr>\n",
              "      <th>...</th>\n",
              "      <td>...</td>\n",
              "      <td>...</td>\n",
              "      <td>...</td>\n",
              "    </tr>\n",
              "    <tr>\n",
              "      <th>325</th>\n",
              "      <td>Alice, Darling</td>\n",
              "      <td>Mary Nighy (director); Alanna Francis (screenp...</td>\n",
              "      <td>Thriller Drama</td>\n",
              "    </tr>\n",
              "    <tr>\n",
              "      <th>326</th>\n",
              "      <td>NaN</td>\n",
              "      <td>NaN</td>\n",
              "      <td>NaN</td>\n",
              "    </tr>\n",
              "    <tr>\n",
              "      <th>327</th>\n",
              "      <td>NaN</td>\n",
              "      <td>NaN</td>\n",
              "      <td>NaN</td>\n",
              "    </tr>\n",
              "    <tr>\n",
              "      <th>328</th>\n",
              "      <td>NaN</td>\n",
              "      <td>NaN</td>\n",
              "      <td>NaN</td>\n",
              "    </tr>\n",
              "    <tr>\n",
              "      <th>329</th>\n",
              "      <td>NaN</td>\n",
              "      <td>NaN</td>\n",
              "      <td>NaN</td>\n",
              "    </tr>\n",
              "  </tbody>\n",
              "</table>\n",
              "<p>330 rows × 3 columns</p>\n",
              "</div>"
            ],
            "text/plain": [
              "                        Title  \\\n",
              "0                     The 355   \n",
              "1    The Legend of La Llorona   \n",
              "2                The Commando   \n",
              "3              American Siege   \n",
              "4                      Scream   \n",
              "..                        ...   \n",
              "325            Alice, Darling   \n",
              "326                       NaN   \n",
              "327                       NaN   \n",
              "328                       NaN   \n",
              "329                       NaN   \n",
              "\n",
              "                                         Cast and crew  \\\n",
              "0    Simon Kinberg (director/screenplay); Theresa R...   \n",
              "1    Patricia Harris Seeley (director/screenplay); ...   \n",
              "2    Asif Akbar (director); Koji Steven Sakai (scre...   \n",
              "3    Edward Drake (director/screenplay); Timothy V....   \n",
              "4    Matt Bettinelli-Olpin, Tyler Gillett (director...   \n",
              "..                                                 ...   \n",
              "325  Mary Nighy (director); Alanna Francis (screenp...   \n",
              "326                                                NaN   \n",
              "327                                                NaN   \n",
              "328                                                NaN   \n",
              "329                                                NaN   \n",
              "\n",
              "                          genres  \n",
              "0                Action Thriller  \n",
              "1       Family Animation Fantasy  \n",
              "2          Action Crime Thriller  \n",
              "3    Action Thriller Crime Drama  \n",
              "4        Horror Mystery Thriller  \n",
              "..                           ...  \n",
              "325               Thriller Drama  \n",
              "326                          NaN  \n",
              "327                          NaN  \n",
              "328                          NaN  \n",
              "329                          NaN  \n",
              "\n",
              "[330 rows x 3 columns]"
            ]
          },
          "execution_count": 16,
          "metadata": {},
          "output_type": "execute_result"
        }
      ],
      "source": [
        "df_2021"
      ]
    },
    {
      "cell_type": "code",
      "execution_count": 17,
      "metadata": {
        "id": "GcqUuFyiOZWW"
      },
      "outputs": [],
      "source": [
        "def get_director(x):\n",
        "    if \" (director)\" in x:\n",
        "        return x.split(\" (director)\")[0]\n",
        "    elif \" (directors)\" in x:\n",
        "        return x.split(\" (directors)\")[0]\n",
        "    else:\n",
        "        return x.split(\" (director/screenplay)\")[0]"
      ]
    },
    {
      "cell_type": "code",
      "execution_count": 18,
      "metadata": {
        "colab": {
          "base_uri": "https://localhost:8080/"
        },
        "id": "A7RzXkBQOZWW",
        "outputId": "161deb48-6037-468b-c4b4-44cd51d0efc1"
      },
      "outputs": [
        {
          "name": "stderr",
          "output_type": "stream",
          "text": [
            "C:\\Users\\Dipanjan Dhar\\AppData\\Local\\Temp\\ipykernel_10692\\3118254134.py:1: SettingWithCopyWarning: \n",
            "A value is trying to be set on a copy of a slice from a DataFrame.\n",
            "Try using .loc[row_indexer,col_indexer] = value instead\n",
            "\n",
            "See the caveats in the documentation: https://pandas.pydata.org/pandas-docs/stable/user_guide/indexing.html#returning-a-view-versus-a-copy\n",
            "  df_2021['director_name'] = df_2021['Cast and crew'].map(lambda x: get_director(str(x)))\n"
          ]
        }
      ],
      "source": [
        "df_2021['director_name'] = df_2021['Cast and crew'].map(lambda x: get_director(str(x)))"
      ]
    },
    {
      "cell_type": "code",
      "execution_count": 19,
      "metadata": {
        "id": "wwBWFgBSOZWW"
      },
      "outputs": [],
      "source": [
        "def get_actor1(x):\n",
        "    return ((x.split(\"screenplay); \")[-1]).split(\", \")[0])"
      ]
    },
    {
      "cell_type": "code",
      "execution_count": 20,
      "metadata": {
        "colab": {
          "base_uri": "https://localhost:8080/"
        },
        "id": "gxr9Y4IJOZWW",
        "outputId": "68904c09-7d50-424d-e908-804489e84d05"
      },
      "outputs": [
        {
          "name": "stderr",
          "output_type": "stream",
          "text": [
            "C:\\Users\\Dipanjan Dhar\\AppData\\Local\\Temp\\ipykernel_10692\\1611661901.py:1: SettingWithCopyWarning: \n",
            "A value is trying to be set on a copy of a slice from a DataFrame.\n",
            "Try using .loc[row_indexer,col_indexer] = value instead\n",
            "\n",
            "See the caveats in the documentation: https://pandas.pydata.org/pandas-docs/stable/user_guide/indexing.html#returning-a-view-versus-a-copy\n",
            "  df_2021['actor_1_name'] = df_2021['Cast and crew'].map(lambda x: get_actor1(str(x)))\n"
          ]
        }
      ],
      "source": [
        "df_2021['actor_1_name'] = df_2021['Cast and crew'].map(lambda x: get_actor1(str(x)))"
      ]
    },
    {
      "cell_type": "code",
      "execution_count": 21,
      "metadata": {
        "id": "Qc7I49gVOZWX"
      },
      "outputs": [],
      "source": [
        "def get_actor2(x):\n",
        "    if len((x.split(\"screenplay); \")[-1]).split(\", \")) < 2:\n",
        "        return np.NaN\n",
        "    else:\n",
        "        return ((x.split(\"screenplay); \")[-1]).split(\", \")[1])"
      ]
    },
    {
      "cell_type": "code",
      "execution_count": 22,
      "metadata": {
        "id": "ipspWbjaOZWX"
      },
      "outputs": [
        {
          "name": "stderr",
          "output_type": "stream",
          "text": [
            "C:\\Users\\Dipanjan Dhar\\AppData\\Local\\Temp\\ipykernel_10692\\3001516348.py:1: SettingWithCopyWarning: \n",
            "A value is trying to be set on a copy of a slice from a DataFrame.\n",
            "Try using .loc[row_indexer,col_indexer] = value instead\n",
            "\n",
            "See the caveats in the documentation: https://pandas.pydata.org/pandas-docs/stable/user_guide/indexing.html#returning-a-view-versus-a-copy\n",
            "  df_2021['actor_2_name'] = df_2021['Cast and crew'].map(lambda x: get_actor2(str(x)))\n"
          ]
        }
      ],
      "source": [
        "df_2021['actor_2_name'] = df_2021['Cast and crew'].map(lambda x: get_actor2(str(x)))"
      ]
    },
    {
      "cell_type": "code",
      "execution_count": 23,
      "metadata": {
        "id": "pQmab5aiOZWX"
      },
      "outputs": [],
      "source": [
        "def get_actor3(x):\n",
        "    if len((x.split(\"screenplay); \")[-1]).split(\", \")) < 3:\n",
        "        return np.NaN\n",
        "    else:\n",
        "        return ((x.split(\"screenplay); \")[-1]).split(\", \")[2])"
      ]
    },
    {
      "cell_type": "code",
      "execution_count": 24,
      "metadata": {
        "id": "vWSs45LWOZWX"
      },
      "outputs": [],
      "source": [
        "df_2021['actor_3_name'] = df_2021['Cast and crew'].map(lambda x: get_actor3(str(x)))"
      ]
    },
    {
      "cell_type": "code",
      "execution_count": 25,
      "metadata": {
        "colab": {
          "base_uri": "https://localhost:8080/",
          "height": 406
        },
        "id": "2xDIRn7DOZWX",
        "outputId": "ad8d83b3-a608-43db-eeff-53a434ab3d4f"
      },
      "outputs": [
        {
          "data": {
            "text/html": [
              "<div>\n",
              "<style scoped>\n",
              "    .dataframe tbody tr th:only-of-type {\n",
              "        vertical-align: middle;\n",
              "    }\n",
              "\n",
              "    .dataframe tbody tr th {\n",
              "        vertical-align: top;\n",
              "    }\n",
              "\n",
              "    .dataframe thead th {\n",
              "        text-align: right;\n",
              "    }\n",
              "</style>\n",
              "<table border=\"1\" class=\"dataframe\">\n",
              "  <thead>\n",
              "    <tr style=\"text-align: right;\">\n",
              "      <th></th>\n",
              "      <th>Title</th>\n",
              "      <th>Cast and crew</th>\n",
              "      <th>genres</th>\n",
              "      <th>director_name</th>\n",
              "      <th>actor_1_name</th>\n",
              "      <th>actor_2_name</th>\n",
              "      <th>actor_3_name</th>\n",
              "    </tr>\n",
              "  </thead>\n",
              "  <tbody>\n",
              "    <tr>\n",
              "      <th>0</th>\n",
              "      <td>The 355</td>\n",
              "      <td>Simon Kinberg (director/screenplay); Theresa R...</td>\n",
              "      <td>Action Thriller</td>\n",
              "      <td>Simon Kinberg</td>\n",
              "      <td>Jessica Chastain</td>\n",
              "      <td>Lupita Nyong'o</td>\n",
              "      <td>Penélope Cruz</td>\n",
              "    </tr>\n",
              "    <tr>\n",
              "      <th>1</th>\n",
              "      <td>The Legend of La Llorona</td>\n",
              "      <td>Patricia Harris Seeley (director/screenplay); ...</td>\n",
              "      <td>Family Animation Fantasy</td>\n",
              "      <td>Patricia Harris Seeley</td>\n",
              "      <td>Autumn Reeser</td>\n",
              "      <td>Antonio Cupo</td>\n",
              "      <td>Danny Trejo</td>\n",
              "    </tr>\n",
              "    <tr>\n",
              "      <th>2</th>\n",
              "      <td>The Commando</td>\n",
              "      <td>Asif Akbar (director); Koji Steven Sakai (scre...</td>\n",
              "      <td>Action Crime Thriller</td>\n",
              "      <td>Asif Akbar</td>\n",
              "      <td>Mickey Rourke</td>\n",
              "      <td>Michael Jai White</td>\n",
              "      <td>NaN</td>\n",
              "    </tr>\n",
              "    <tr>\n",
              "      <th>3</th>\n",
              "      <td>American Siege</td>\n",
              "      <td>Edward Drake (director/screenplay); Timothy V....</td>\n",
              "      <td>Action Thriller Crime Drama</td>\n",
              "      <td>Edward Drake</td>\n",
              "      <td>Timothy V. Murphy</td>\n",
              "      <td>Bruce Willis</td>\n",
              "      <td>NaN</td>\n",
              "    </tr>\n",
              "    <tr>\n",
              "      <th>4</th>\n",
              "      <td>Scream</td>\n",
              "      <td>Matt Bettinelli-Olpin, Tyler Gillett (director...</td>\n",
              "      <td>Horror Mystery Thriller</td>\n",
              "      <td>Matt Bettinelli-Olpin, Tyler Gillett</td>\n",
              "      <td>Melissa Barrera</td>\n",
              "      <td>Mason Gooding</td>\n",
              "      <td>Jenna Ortega</td>\n",
              "    </tr>\n",
              "    <tr>\n",
              "      <th>...</th>\n",
              "      <td>...</td>\n",
              "      <td>...</td>\n",
              "      <td>...</td>\n",
              "      <td>...</td>\n",
              "      <td>...</td>\n",
              "      <td>...</td>\n",
              "      <td>...</td>\n",
              "    </tr>\n",
              "    <tr>\n",
              "      <th>325</th>\n",
              "      <td>Alice, Darling</td>\n",
              "      <td>Mary Nighy (director); Alanna Francis (screenp...</td>\n",
              "      <td>Thriller Drama</td>\n",
              "      <td>Mary Nighy</td>\n",
              "      <td>Anna Kendrick</td>\n",
              "      <td>Kaniehtiio Horn</td>\n",
              "      <td>Charlie Carrick</td>\n",
              "    </tr>\n",
              "    <tr>\n",
              "      <th>326</th>\n",
              "      <td>NaN</td>\n",
              "      <td>NaN</td>\n",
              "      <td>NaN</td>\n",
              "      <td>nan</td>\n",
              "      <td>nan</td>\n",
              "      <td>NaN</td>\n",
              "      <td>NaN</td>\n",
              "    </tr>\n",
              "    <tr>\n",
              "      <th>327</th>\n",
              "      <td>NaN</td>\n",
              "      <td>NaN</td>\n",
              "      <td>NaN</td>\n",
              "      <td>nan</td>\n",
              "      <td>nan</td>\n",
              "      <td>NaN</td>\n",
              "      <td>NaN</td>\n",
              "    </tr>\n",
              "    <tr>\n",
              "      <th>328</th>\n",
              "      <td>NaN</td>\n",
              "      <td>NaN</td>\n",
              "      <td>NaN</td>\n",
              "      <td>nan</td>\n",
              "      <td>nan</td>\n",
              "      <td>NaN</td>\n",
              "      <td>NaN</td>\n",
              "    </tr>\n",
              "    <tr>\n",
              "      <th>329</th>\n",
              "      <td>NaN</td>\n",
              "      <td>NaN</td>\n",
              "      <td>NaN</td>\n",
              "      <td>nan</td>\n",
              "      <td>nan</td>\n",
              "      <td>NaN</td>\n",
              "      <td>NaN</td>\n",
              "    </tr>\n",
              "  </tbody>\n",
              "</table>\n",
              "<p>330 rows × 7 columns</p>\n",
              "</div>"
            ],
            "text/plain": [
              "                        Title  \\\n",
              "0                     The 355   \n",
              "1    The Legend of La Llorona   \n",
              "2                The Commando   \n",
              "3              American Siege   \n",
              "4                      Scream   \n",
              "..                        ...   \n",
              "325            Alice, Darling   \n",
              "326                       NaN   \n",
              "327                       NaN   \n",
              "328                       NaN   \n",
              "329                       NaN   \n",
              "\n",
              "                                         Cast and crew  \\\n",
              "0    Simon Kinberg (director/screenplay); Theresa R...   \n",
              "1    Patricia Harris Seeley (director/screenplay); ...   \n",
              "2    Asif Akbar (director); Koji Steven Sakai (scre...   \n",
              "3    Edward Drake (director/screenplay); Timothy V....   \n",
              "4    Matt Bettinelli-Olpin, Tyler Gillett (director...   \n",
              "..                                                 ...   \n",
              "325  Mary Nighy (director); Alanna Francis (screenp...   \n",
              "326                                                NaN   \n",
              "327                                                NaN   \n",
              "328                                                NaN   \n",
              "329                                                NaN   \n",
              "\n",
              "                          genres                         director_name  \\\n",
              "0                Action Thriller                         Simon Kinberg   \n",
              "1       Family Animation Fantasy                Patricia Harris Seeley   \n",
              "2          Action Crime Thriller                            Asif Akbar   \n",
              "3    Action Thriller Crime Drama                          Edward Drake   \n",
              "4        Horror Mystery Thriller  Matt Bettinelli-Olpin, Tyler Gillett   \n",
              "..                           ...                                   ...   \n",
              "325               Thriller Drama                            Mary Nighy   \n",
              "326                          NaN                                   nan   \n",
              "327                          NaN                                   nan   \n",
              "328                          NaN                                   nan   \n",
              "329                          NaN                                   nan   \n",
              "\n",
              "          actor_1_name       actor_2_name     actor_3_name  \n",
              "0     Jessica Chastain     Lupita Nyong'o    Penélope Cruz  \n",
              "1        Autumn Reeser       Antonio Cupo      Danny Trejo  \n",
              "2        Mickey Rourke  Michael Jai White              NaN  \n",
              "3    Timothy V. Murphy       Bruce Willis              NaN  \n",
              "4      Melissa Barrera      Mason Gooding     Jenna Ortega  \n",
              "..                 ...                ...              ...  \n",
              "325      Anna Kendrick    Kaniehtiio Horn  Charlie Carrick  \n",
              "326                nan                NaN              NaN  \n",
              "327                nan                NaN              NaN  \n",
              "328                nan                NaN              NaN  \n",
              "329                nan                NaN              NaN  \n",
              "\n",
              "[330 rows x 7 columns]"
            ]
          },
          "execution_count": 25,
          "metadata": {},
          "output_type": "execute_result"
        }
      ],
      "source": [
        "df_2021"
      ]
    },
    {
      "cell_type": "code",
      "execution_count": 26,
      "metadata": {
        "id": "rBUUnUtfOZWX"
      },
      "outputs": [],
      "source": [
        "df_2021 = df_2021.rename(columns={'Title':'movie_title'})"
      ]
    },
    {
      "cell_type": "code",
      "execution_count": 27,
      "metadata": {
        "id": "_WCWVlAqOZWX"
      },
      "outputs": [],
      "source": [
        "new_df20 = df_2021.loc[:,['director_name','actor_1_name','actor_2_name','actor_3_name','genres','movie_title']]"
      ]
    },
    {
      "cell_type": "code",
      "execution_count": 28,
      "metadata": {
        "colab": {
          "base_uri": "https://localhost:8080/",
          "height": 406
        },
        "id": "i7KBDmu_OZWX",
        "outputId": "6b4de81e-b1ac-4fb0-d349-52ae7c210346"
      },
      "outputs": [
        {
          "data": {
            "text/html": [
              "<div>\n",
              "<style scoped>\n",
              "    .dataframe tbody tr th:only-of-type {\n",
              "        vertical-align: middle;\n",
              "    }\n",
              "\n",
              "    .dataframe tbody tr th {\n",
              "        vertical-align: top;\n",
              "    }\n",
              "\n",
              "    .dataframe thead th {\n",
              "        text-align: right;\n",
              "    }\n",
              "</style>\n",
              "<table border=\"1\" class=\"dataframe\">\n",
              "  <thead>\n",
              "    <tr style=\"text-align: right;\">\n",
              "      <th></th>\n",
              "      <th>director_name</th>\n",
              "      <th>actor_1_name</th>\n",
              "      <th>actor_2_name</th>\n",
              "      <th>actor_3_name</th>\n",
              "      <th>genres</th>\n",
              "      <th>movie_title</th>\n",
              "    </tr>\n",
              "  </thead>\n",
              "  <tbody>\n",
              "    <tr>\n",
              "      <th>0</th>\n",
              "      <td>Simon Kinberg</td>\n",
              "      <td>Jessica Chastain</td>\n",
              "      <td>Lupita Nyong'o</td>\n",
              "      <td>Penélope Cruz</td>\n",
              "      <td>Action Thriller</td>\n",
              "      <td>The 355</td>\n",
              "    </tr>\n",
              "    <tr>\n",
              "      <th>1</th>\n",
              "      <td>Patricia Harris Seeley</td>\n",
              "      <td>Autumn Reeser</td>\n",
              "      <td>Antonio Cupo</td>\n",
              "      <td>Danny Trejo</td>\n",
              "      <td>Family Animation Fantasy</td>\n",
              "      <td>The Legend of La Llorona</td>\n",
              "    </tr>\n",
              "    <tr>\n",
              "      <th>2</th>\n",
              "      <td>Asif Akbar</td>\n",
              "      <td>Mickey Rourke</td>\n",
              "      <td>Michael Jai White</td>\n",
              "      <td>NaN</td>\n",
              "      <td>Action Crime Thriller</td>\n",
              "      <td>The Commando</td>\n",
              "    </tr>\n",
              "    <tr>\n",
              "      <th>3</th>\n",
              "      <td>Edward Drake</td>\n",
              "      <td>Timothy V. Murphy</td>\n",
              "      <td>Bruce Willis</td>\n",
              "      <td>NaN</td>\n",
              "      <td>Action Thriller Crime Drama</td>\n",
              "      <td>American Siege</td>\n",
              "    </tr>\n",
              "    <tr>\n",
              "      <th>4</th>\n",
              "      <td>Matt Bettinelli-Olpin, Tyler Gillett</td>\n",
              "      <td>Melissa Barrera</td>\n",
              "      <td>Mason Gooding</td>\n",
              "      <td>Jenna Ortega</td>\n",
              "      <td>Horror Mystery Thriller</td>\n",
              "      <td>Scream</td>\n",
              "    </tr>\n",
              "    <tr>\n",
              "      <th>...</th>\n",
              "      <td>...</td>\n",
              "      <td>...</td>\n",
              "      <td>...</td>\n",
              "      <td>...</td>\n",
              "      <td>...</td>\n",
              "      <td>...</td>\n",
              "    </tr>\n",
              "    <tr>\n",
              "      <th>325</th>\n",
              "      <td>Mary Nighy</td>\n",
              "      <td>Anna Kendrick</td>\n",
              "      <td>Kaniehtiio Horn</td>\n",
              "      <td>Charlie Carrick</td>\n",
              "      <td>Thriller Drama</td>\n",
              "      <td>Alice, Darling</td>\n",
              "    </tr>\n",
              "    <tr>\n",
              "      <th>326</th>\n",
              "      <td>nan</td>\n",
              "      <td>nan</td>\n",
              "      <td>NaN</td>\n",
              "      <td>NaN</td>\n",
              "      <td>NaN</td>\n",
              "      <td>NaN</td>\n",
              "    </tr>\n",
              "    <tr>\n",
              "      <th>327</th>\n",
              "      <td>nan</td>\n",
              "      <td>nan</td>\n",
              "      <td>NaN</td>\n",
              "      <td>NaN</td>\n",
              "      <td>NaN</td>\n",
              "      <td>NaN</td>\n",
              "    </tr>\n",
              "    <tr>\n",
              "      <th>328</th>\n",
              "      <td>nan</td>\n",
              "      <td>nan</td>\n",
              "      <td>NaN</td>\n",
              "      <td>NaN</td>\n",
              "      <td>NaN</td>\n",
              "      <td>NaN</td>\n",
              "    </tr>\n",
              "    <tr>\n",
              "      <th>329</th>\n",
              "      <td>nan</td>\n",
              "      <td>nan</td>\n",
              "      <td>NaN</td>\n",
              "      <td>NaN</td>\n",
              "      <td>NaN</td>\n",
              "      <td>NaN</td>\n",
              "    </tr>\n",
              "  </tbody>\n",
              "</table>\n",
              "<p>330 rows × 6 columns</p>\n",
              "</div>"
            ],
            "text/plain": [
              "                            director_name       actor_1_name  \\\n",
              "0                           Simon Kinberg   Jessica Chastain   \n",
              "1                  Patricia Harris Seeley      Autumn Reeser   \n",
              "2                              Asif Akbar      Mickey Rourke   \n",
              "3                            Edward Drake  Timothy V. Murphy   \n",
              "4    Matt Bettinelli-Olpin, Tyler Gillett    Melissa Barrera   \n",
              "..                                    ...                ...   \n",
              "325                            Mary Nighy      Anna Kendrick   \n",
              "326                                   nan                nan   \n",
              "327                                   nan                nan   \n",
              "328                                   nan                nan   \n",
              "329                                   nan                nan   \n",
              "\n",
              "          actor_2_name     actor_3_name                       genres  \\\n",
              "0       Lupita Nyong'o    Penélope Cruz              Action Thriller   \n",
              "1         Antonio Cupo      Danny Trejo     Family Animation Fantasy   \n",
              "2    Michael Jai White              NaN        Action Crime Thriller   \n",
              "3         Bruce Willis              NaN  Action Thriller Crime Drama   \n",
              "4        Mason Gooding     Jenna Ortega      Horror Mystery Thriller   \n",
              "..                 ...              ...                          ...   \n",
              "325    Kaniehtiio Horn  Charlie Carrick               Thriller Drama   \n",
              "326                NaN              NaN                          NaN   \n",
              "327                NaN              NaN                          NaN   \n",
              "328                NaN              NaN                          NaN   \n",
              "329                NaN              NaN                          NaN   \n",
              "\n",
              "                  movie_title  \n",
              "0                     The 355  \n",
              "1    The Legend of La Llorona  \n",
              "2                The Commando  \n",
              "3              American Siege  \n",
              "4                      Scream  \n",
              "..                        ...  \n",
              "325            Alice, Darling  \n",
              "326                       NaN  \n",
              "327                       NaN  \n",
              "328                       NaN  \n",
              "329                       NaN  \n",
              "\n",
              "[330 rows x 6 columns]"
            ]
          },
          "execution_count": 28,
          "metadata": {},
          "output_type": "execute_result"
        }
      ],
      "source": [
        "new_df20"
      ]
    },
    {
      "cell_type": "code",
      "execution_count": 29,
      "metadata": {
        "id": "0s7XMhqzOZWY"
      },
      "outputs": [],
      "source": [
        "new_df20['comb'] = new_df20['actor_1_name'] + ' ' + new_df20['actor_2_name'] + ' '+ new_df20['actor_3_name'] + ' '+ new_df20['director_name'] +' ' + new_df20['genres']"
      ]
    },
    {
      "cell_type": "code",
      "execution_count": 30,
      "metadata": {
        "colab": {
          "base_uri": "https://localhost:8080/"
        },
        "id": "ta_KcPQJOZWY",
        "outputId": "ac6aa7b7-c156-49b2-9e95-3a76f971f5b1"
      },
      "outputs": [
        {
          "data": {
            "text/plain": [
              "director_name     0\n",
              "actor_1_name      0\n",
              "actor_2_name     11\n",
              "actor_3_name     37\n",
              "genres            5\n",
              "movie_title       4\n",
              "comb             38\n",
              "dtype: int64"
            ]
          },
          "execution_count": 30,
          "metadata": {},
          "output_type": "execute_result"
        }
      ],
      "source": [
        "new_df20.isna().sum()"
      ]
    },
    {
      "cell_type": "code",
      "execution_count": 31,
      "metadata": {
        "id": "DkKroG5GOZWY"
      },
      "outputs": [],
      "source": [
        "new_df20 = new_df20.dropna(how='any')"
      ]
    },
    {
      "cell_type": "code",
      "execution_count": 32,
      "metadata": {
        "colab": {
          "base_uri": "https://localhost:8080/"
        },
        "id": "YOIv1wvhOZWY",
        "outputId": "c3ad579e-16e2-4d8c-d4a0-71891d71b986"
      },
      "outputs": [
        {
          "data": {
            "text/plain": [
              "director_name    0\n",
              "actor_1_name     0\n",
              "actor_2_name     0\n",
              "actor_3_name     0\n",
              "genres           0\n",
              "movie_title      0\n",
              "comb             0\n",
              "dtype: int64"
            ]
          },
          "execution_count": 32,
          "metadata": {},
          "output_type": "execute_result"
        }
      ],
      "source": [
        "new_df20.isna().sum()"
      ]
    },
    {
      "cell_type": "code",
      "execution_count": 33,
      "metadata": {
        "colab": {
          "base_uri": "https://localhost:8080/"
        },
        "id": "IB3YmNWROZWY",
        "outputId": "8abccee1-4b9e-436b-de18-eb97298d73a9"
      },
      "outputs": [
        {
          "name": "stderr",
          "output_type": "stream",
          "text": [
            "C:\\Users\\Dipanjan Dhar\\AppData\\Local\\Temp\\ipykernel_10692\\2267385682.py:1: SettingWithCopyWarning: \n",
            "A value is trying to be set on a copy of a slice from a DataFrame.\n",
            "Try using .loc[row_indexer,col_indexer] = value instead\n",
            "\n",
            "See the caveats in the documentation: https://pandas.pydata.org/pandas-docs/stable/user_guide/indexing.html#returning-a-view-versus-a-copy\n",
            "  new_df20['movie_title'] = new_df20['movie_title'].str.lower()\n"
          ]
        }
      ],
      "source": [
        "new_df20['movie_title'] = new_df20['movie_title'].str.lower()"
      ]
    },
    {
      "cell_type": "code",
      "execution_count": 34,
      "metadata": {
        "colab": {
          "base_uri": "https://localhost:8080/",
          "height": 406
        },
        "id": "3e3NnY70OZWZ",
        "outputId": "cf4351f9-93f7-40bc-cc24-ab9e45bd8358"
      },
      "outputs": [
        {
          "data": {
            "text/html": [
              "<div>\n",
              "<style scoped>\n",
              "    .dataframe tbody tr th:only-of-type {\n",
              "        vertical-align: middle;\n",
              "    }\n",
              "\n",
              "    .dataframe tbody tr th {\n",
              "        vertical-align: top;\n",
              "    }\n",
              "\n",
              "    .dataframe thead th {\n",
              "        text-align: right;\n",
              "    }\n",
              "</style>\n",
              "<table border=\"1\" class=\"dataframe\">\n",
              "  <thead>\n",
              "    <tr style=\"text-align: right;\">\n",
              "      <th></th>\n",
              "      <th>director_name</th>\n",
              "      <th>actor_1_name</th>\n",
              "      <th>actor_2_name</th>\n",
              "      <th>actor_3_name</th>\n",
              "      <th>genres</th>\n",
              "      <th>movie_title</th>\n",
              "      <th>comb</th>\n",
              "    </tr>\n",
              "  </thead>\n",
              "  <tbody>\n",
              "    <tr>\n",
              "      <th>0</th>\n",
              "      <td>Simon Kinberg</td>\n",
              "      <td>Jessica Chastain</td>\n",
              "      <td>Lupita Nyong'o</td>\n",
              "      <td>Penélope Cruz</td>\n",
              "      <td>Action Thriller</td>\n",
              "      <td>the 355</td>\n",
              "      <td>Jessica Chastain Lupita Nyong'o Penélope Cruz ...</td>\n",
              "    </tr>\n",
              "    <tr>\n",
              "      <th>1</th>\n",
              "      <td>Patricia Harris Seeley</td>\n",
              "      <td>Autumn Reeser</td>\n",
              "      <td>Antonio Cupo</td>\n",
              "      <td>Danny Trejo</td>\n",
              "      <td>Family Animation Fantasy</td>\n",
              "      <td>the legend of la llorona</td>\n",
              "      <td>Autumn Reeser Antonio Cupo Danny Trejo Patrici...</td>\n",
              "    </tr>\n",
              "    <tr>\n",
              "      <th>4</th>\n",
              "      <td>Matt Bettinelli-Olpin, Tyler Gillett</td>\n",
              "      <td>Melissa Barrera</td>\n",
              "      <td>Mason Gooding</td>\n",
              "      <td>Jenna Ortega</td>\n",
              "      <td>Horror Mystery Thriller</td>\n",
              "      <td>scream</td>\n",
              "      <td>Melissa Barrera Mason Gooding Jenna Ortega Mat...</td>\n",
              "    </tr>\n",
              "    <tr>\n",
              "      <th>5</th>\n",
              "      <td>Jennifer Kluska, Derek Drymon</td>\n",
              "      <td>Andy Samberg</td>\n",
              "      <td>Selena Gomez</td>\n",
              "      <td>Kathryn Hahn</td>\n",
              "      <td>Animation Comedy Family Fantasy Adventure</td>\n",
              "      <td>hotel transylvania: transformania</td>\n",
              "      <td>Andy Samberg Selena Gomez Kathryn Hahn Jennife...</td>\n",
              "    </tr>\n",
              "    <tr>\n",
              "      <th>6</th>\n",
              "      <td>Luis Prieto</td>\n",
              "      <td>Cameron Monaghan</td>\n",
              "      <td>Frank Grillo</td>\n",
              "      <td>Lilly Krug</td>\n",
              "      <td>Thriller</td>\n",
              "      <td>shattered</td>\n",
              "      <td>Cameron Monaghan Frank Grillo Lilly Krug Luis ...</td>\n",
              "    </tr>\n",
              "    <tr>\n",
              "      <th>...</th>\n",
              "      <td>...</td>\n",
              "      <td>...</td>\n",
              "      <td>...</td>\n",
              "      <td>...</td>\n",
              "      <td>...</td>\n",
              "      <td>...</td>\n",
              "      <td>...</td>\n",
              "    </tr>\n",
              "    <tr>\n",
              "      <th>321</th>\n",
              "      <td>Damien Chazelle</td>\n",
              "      <td>Brad Pitt</td>\n",
              "      <td>Margot Robbie</td>\n",
              "      <td>Diego Calva</td>\n",
              "      <td>Drama Comedy</td>\n",
              "      <td>babylon</td>\n",
              "      <td>Brad Pitt Margot Robbie Diego Calva Damien Cha...</td>\n",
              "    </tr>\n",
              "    <tr>\n",
              "      <th>322</th>\n",
              "      <td>Scott Cooper</td>\n",
              "      <td>Christian Bale</td>\n",
              "      <td>Harry Melling</td>\n",
              "      <td>Gillian Anderson</td>\n",
              "      <td>Crime Thriller Mystery Horror</td>\n",
              "      <td>the pale blue eye</td>\n",
              "      <td>Christian Bale Harry Melling Gillian Anderson ...</td>\n",
              "    </tr>\n",
              "    <tr>\n",
              "      <th>323</th>\n",
              "      <td>Marc Forster</td>\n",
              "      <td>Tom Hanks</td>\n",
              "      <td>Mariana Treviño</td>\n",
              "      <td>Rachel Keller</td>\n",
              "      <td>Drama Comedy</td>\n",
              "      <td>a man called otto</td>\n",
              "      <td>Tom Hanks Mariana Treviño Rachel Keller Marc F...</td>\n",
              "    </tr>\n",
              "    <tr>\n",
              "      <th>324</th>\n",
              "      <td>Juel Taylor</td>\n",
              "      <td>John Boyega</td>\n",
              "      <td>Teyonah Parris</td>\n",
              "      <td>Kiefer Sutherland</td>\n",
              "      <td>Science Fiction Comedy Mystery</td>\n",
              "      <td>they cloned tyrone</td>\n",
              "      <td>John Boyega Teyonah Parris Kiefer Sutherland J...</td>\n",
              "    </tr>\n",
              "    <tr>\n",
              "      <th>325</th>\n",
              "      <td>Mary Nighy</td>\n",
              "      <td>Anna Kendrick</td>\n",
              "      <td>Kaniehtiio Horn</td>\n",
              "      <td>Charlie Carrick</td>\n",
              "      <td>Thriller Drama</td>\n",
              "      <td>alice, darling</td>\n",
              "      <td>Anna Kendrick Kaniehtiio Horn Charlie Carrick ...</td>\n",
              "    </tr>\n",
              "  </tbody>\n",
              "</table>\n",
              "<p>292 rows × 7 columns</p>\n",
              "</div>"
            ],
            "text/plain": [
              "                            director_name      actor_1_name     actor_2_name  \\\n",
              "0                           Simon Kinberg  Jessica Chastain   Lupita Nyong'o   \n",
              "1                  Patricia Harris Seeley     Autumn Reeser     Antonio Cupo   \n",
              "4    Matt Bettinelli-Olpin, Tyler Gillett   Melissa Barrera    Mason Gooding   \n",
              "5           Jennifer Kluska, Derek Drymon      Andy Samberg     Selena Gomez   \n",
              "6                             Luis Prieto  Cameron Monaghan     Frank Grillo   \n",
              "..                                    ...               ...              ...   \n",
              "321                       Damien Chazelle         Brad Pitt    Margot Robbie   \n",
              "322                          Scott Cooper    Christian Bale    Harry Melling   \n",
              "323                          Marc Forster         Tom Hanks  Mariana Treviño   \n",
              "324                           Juel Taylor       John Boyega   Teyonah Parris   \n",
              "325                            Mary Nighy     Anna Kendrick  Kaniehtiio Horn   \n",
              "\n",
              "          actor_3_name                                     genres  \\\n",
              "0        Penélope Cruz                            Action Thriller   \n",
              "1          Danny Trejo                   Family Animation Fantasy   \n",
              "4         Jenna Ortega                    Horror Mystery Thriller   \n",
              "5         Kathryn Hahn  Animation Comedy Family Fantasy Adventure   \n",
              "6           Lilly Krug                                   Thriller   \n",
              "..                 ...                                        ...   \n",
              "321        Diego Calva                               Drama Comedy   \n",
              "322   Gillian Anderson              Crime Thriller Mystery Horror   \n",
              "323      Rachel Keller                               Drama Comedy   \n",
              "324  Kiefer Sutherland             Science Fiction Comedy Mystery   \n",
              "325    Charlie Carrick                             Thriller Drama   \n",
              "\n",
              "                           movie_title  \\\n",
              "0                              the 355   \n",
              "1             the legend of la llorona   \n",
              "4                               scream   \n",
              "5    hotel transylvania: transformania   \n",
              "6                            shattered   \n",
              "..                                 ...   \n",
              "321                            babylon   \n",
              "322                  the pale blue eye   \n",
              "323                  a man called otto   \n",
              "324                 they cloned tyrone   \n",
              "325                     alice, darling   \n",
              "\n",
              "                                                  comb  \n",
              "0    Jessica Chastain Lupita Nyong'o Penélope Cruz ...  \n",
              "1    Autumn Reeser Antonio Cupo Danny Trejo Patrici...  \n",
              "4    Melissa Barrera Mason Gooding Jenna Ortega Mat...  \n",
              "5    Andy Samberg Selena Gomez Kathryn Hahn Jennife...  \n",
              "6    Cameron Monaghan Frank Grillo Lilly Krug Luis ...  \n",
              "..                                                 ...  \n",
              "321  Brad Pitt Margot Robbie Diego Calva Damien Cha...  \n",
              "322  Christian Bale Harry Melling Gillian Anderson ...  \n",
              "323  Tom Hanks Mariana Treviño Rachel Keller Marc F...  \n",
              "324  John Boyega Teyonah Parris Kiefer Sutherland J...  \n",
              "325  Anna Kendrick Kaniehtiio Horn Charlie Carrick ...  \n",
              "\n",
              "[292 rows x 7 columns]"
            ]
          },
          "execution_count": 34,
          "metadata": {},
          "output_type": "execute_result"
        }
      ],
      "source": [
        "new_df20"
      ]
    },
    {
      "cell_type": "code",
      "execution_count": 35,
      "metadata": {
        "id": "BCf9fH_4OZWZ"
      },
      "outputs": [],
      "source": [
        "old_df = pd.read_csv('new5_data.csv')"
      ]
    },
    {
      "cell_type": "code",
      "execution_count": 36,
      "metadata": {
        "id": "ce2e426yOZWZ",
        "outputId": "7d2c0bd7-6907-4398-c385-829b04ad921e"
      },
      "outputs": [
        {
          "data": {
            "text/html": [
              "<div>\n",
              "<style scoped>\n",
              "    .dataframe tbody tr th:only-of-type {\n",
              "        vertical-align: middle;\n",
              "    }\n",
              "\n",
              "    .dataframe tbody tr th {\n",
              "        vertical-align: top;\n",
              "    }\n",
              "\n",
              "    .dataframe thead th {\n",
              "        text-align: right;\n",
              "    }\n",
              "</style>\n",
              "<table border=\"1\" class=\"dataframe\">\n",
              "  <thead>\n",
              "    <tr style=\"text-align: right;\">\n",
              "      <th></th>\n",
              "      <th>director_name</th>\n",
              "      <th>actor_1_name</th>\n",
              "      <th>actor_2_name</th>\n",
              "      <th>actor_3_name</th>\n",
              "      <th>genres</th>\n",
              "      <th>movie_title</th>\n",
              "      <th>comb</th>\n",
              "    </tr>\n",
              "  </thead>\n",
              "  <tbody>\n",
              "    <tr>\n",
              "      <th>0</th>\n",
              "      <td>James Cameron</td>\n",
              "      <td>CCH Pounder</td>\n",
              "      <td>Joel David Moore</td>\n",
              "      <td>Wes Studi</td>\n",
              "      <td>Action Adventure Fantasy Sci-Fi</td>\n",
              "      <td>avatar</td>\n",
              "      <td>CCH Pounder Joel David Moore Wes Studi James C...</td>\n",
              "    </tr>\n",
              "    <tr>\n",
              "      <th>1</th>\n",
              "      <td>Gore Verbinski</td>\n",
              "      <td>Johnny Depp</td>\n",
              "      <td>Orlando Bloom</td>\n",
              "      <td>Jack Davenport</td>\n",
              "      <td>Action Adventure Fantasy</td>\n",
              "      <td>pirates of the caribbean: at world's end</td>\n",
              "      <td>Johnny Depp Orlando Bloom Jack Davenport Gore ...</td>\n",
              "    </tr>\n",
              "    <tr>\n",
              "      <th>2</th>\n",
              "      <td>Sam Mendes</td>\n",
              "      <td>Christoph Waltz</td>\n",
              "      <td>Rory Kinnear</td>\n",
              "      <td>Stephanie Sigman</td>\n",
              "      <td>Action Adventure Thriller</td>\n",
              "      <td>spectre</td>\n",
              "      <td>Christoph Waltz Rory Kinnear Stephanie Sigman ...</td>\n",
              "    </tr>\n",
              "    <tr>\n",
              "      <th>3</th>\n",
              "      <td>Christopher Nolan</td>\n",
              "      <td>Tom Hardy</td>\n",
              "      <td>Christian Bale</td>\n",
              "      <td>Joseph Gordon-Levitt</td>\n",
              "      <td>Action Thriller</td>\n",
              "      <td>the dark knight rises</td>\n",
              "      <td>Tom Hardy Christian Bale Joseph Gordon-Levitt ...</td>\n",
              "    </tr>\n",
              "    <tr>\n",
              "      <th>4</th>\n",
              "      <td>Doug Walker</td>\n",
              "      <td>Doug Walker</td>\n",
              "      <td>Rob Walker</td>\n",
              "      <td>unknown</td>\n",
              "      <td>Documentary</td>\n",
              "      <td>star wars: episode vii - the force awakens    ...</td>\n",
              "      <td>Doug Walker Rob Walker unknown Doug Walker Doc...</td>\n",
              "    </tr>\n",
              "    <tr>\n",
              "      <th>...</th>\n",
              "      <td>...</td>\n",
              "      <td>...</td>\n",
              "      <td>...</td>\n",
              "      <td>...</td>\n",
              "      <td>...</td>\n",
              "      <td>...</td>\n",
              "      <td>...</td>\n",
              "    </tr>\n",
              "    <tr>\n",
              "      <th>6613</th>\n",
              "      <td>Matthew Vaughn</td>\n",
              "      <td>Ralph Fiennes</td>\n",
              "      <td>Gemma Arterton</td>\n",
              "      <td>Rhys Ifans</td>\n",
              "      <td>Action Adventure Thriller War Mystery</td>\n",
              "      <td>the king's man</td>\n",
              "      <td>Ralph Fiennes Gemma Arterton Rhys Ifans Matthe...</td>\n",
              "    </tr>\n",
              "    <tr>\n",
              "      <th>6614</th>\n",
              "      <td>Joel Coen</td>\n",
              "      <td>Denzel Washington</td>\n",
              "      <td>Frances McDormand</td>\n",
              "      <td>Bertie Carvel</td>\n",
              "      <td>Drama War</td>\n",
              "      <td>the tragedy of macbeth</td>\n",
              "      <td>Denzel Washington Frances McDormand Bertie Car...</td>\n",
              "    </tr>\n",
              "    <tr>\n",
              "      <th>6615</th>\n",
              "      <td>Denzel Washington</td>\n",
              "      <td>Michael B. Jordan</td>\n",
              "      <td>Chanté Adams</td>\n",
              "      <td>Jalon Christian</td>\n",
              "      <td>Drama Romance</td>\n",
              "      <td>a journal for jordan</td>\n",
              "      <td>Michael B. Jordan Chanté Adams Jalon Christian...</td>\n",
              "    </tr>\n",
              "    <tr>\n",
              "      <th>6616</th>\n",
              "      <td>Erwin brothers</td>\n",
              "      <td>Zachary Levi</td>\n",
              "      <td>Anna Paquin</td>\n",
              "      <td>Dennis Quaid</td>\n",
              "      <td>Drama</td>\n",
              "      <td>american underdog</td>\n",
              "      <td>Zachary Levi Anna Paquin Dennis Quaid Erwin br...</td>\n",
              "    </tr>\n",
              "    <tr>\n",
              "      <th>6617</th>\n",
              "      <td>Apichatpong Weerasethakul (director/acreenplay...</td>\n",
              "      <td>Apichatpong Weerasethakul (director/acreenplay...</td>\n",
              "      <td>Elkin Díaz</td>\n",
              "      <td>Jeanne Balibar</td>\n",
              "      <td>Drama Science Fiction Mystery</td>\n",
              "      <td>memoria</td>\n",
              "      <td>Apichatpong Weerasethakul (director/acreenplay...</td>\n",
              "    </tr>\n",
              "  </tbody>\n",
              "</table>\n",
              "<p>6618 rows × 7 columns</p>\n",
              "</div>"
            ],
            "text/plain": [
              "                                          director_name  \\\n",
              "0                                         James Cameron   \n",
              "1                                        Gore Verbinski   \n",
              "2                                            Sam Mendes   \n",
              "3                                     Christopher Nolan   \n",
              "4                                           Doug Walker   \n",
              "...                                                 ...   \n",
              "6613                                     Matthew Vaughn   \n",
              "6614                                          Joel Coen   \n",
              "6615                                  Denzel Washington   \n",
              "6616                                     Erwin brothers   \n",
              "6617  Apichatpong Weerasethakul (director/acreenplay...   \n",
              "\n",
              "                                           actor_1_name       actor_2_name  \\\n",
              "0                                           CCH Pounder   Joel David Moore   \n",
              "1                                           Johnny Depp      Orlando Bloom   \n",
              "2                                       Christoph Waltz       Rory Kinnear   \n",
              "3                                             Tom Hardy     Christian Bale   \n",
              "4                                           Doug Walker         Rob Walker   \n",
              "...                                                 ...                ...   \n",
              "6613                                      Ralph Fiennes     Gemma Arterton   \n",
              "6614                                  Denzel Washington  Frances McDormand   \n",
              "6615                                  Michael B. Jordan       Chanté Adams   \n",
              "6616                                       Zachary Levi        Anna Paquin   \n",
              "6617  Apichatpong Weerasethakul (director/acreenplay...         Elkin Díaz   \n",
              "\n",
              "              actor_3_name                                 genres  \\\n",
              "0                Wes Studi        Action Adventure Fantasy Sci-Fi   \n",
              "1           Jack Davenport               Action Adventure Fantasy   \n",
              "2         Stephanie Sigman              Action Adventure Thriller   \n",
              "3     Joseph Gordon-Levitt                        Action Thriller   \n",
              "4                  unknown                            Documentary   \n",
              "...                    ...                                    ...   \n",
              "6613            Rhys Ifans  Action Adventure Thriller War Mystery   \n",
              "6614         Bertie Carvel                              Drama War   \n",
              "6615       Jalon Christian                          Drama Romance   \n",
              "6616          Dennis Quaid                                  Drama   \n",
              "6617        Jeanne Balibar          Drama Science Fiction Mystery   \n",
              "\n",
              "                                            movie_title  \\\n",
              "0                                                avatar   \n",
              "1              pirates of the caribbean: at world's end   \n",
              "2                                               spectre   \n",
              "3                                 the dark knight rises   \n",
              "4     star wars: episode vii - the force awakens    ...   \n",
              "...                                                 ...   \n",
              "6613                                     the king's man   \n",
              "6614                             the tragedy of macbeth   \n",
              "6615                               a journal for jordan   \n",
              "6616                                  american underdog   \n",
              "6617                                            memoria   \n",
              "\n",
              "                                                   comb  \n",
              "0     CCH Pounder Joel David Moore Wes Studi James C...  \n",
              "1     Johnny Depp Orlando Bloom Jack Davenport Gore ...  \n",
              "2     Christoph Waltz Rory Kinnear Stephanie Sigman ...  \n",
              "3     Tom Hardy Christian Bale Joseph Gordon-Levitt ...  \n",
              "4     Doug Walker Rob Walker unknown Doug Walker Doc...  \n",
              "...                                                 ...  \n",
              "6613  Ralph Fiennes Gemma Arterton Rhys Ifans Matthe...  \n",
              "6614  Denzel Washington Frances McDormand Bertie Car...  \n",
              "6615  Michael B. Jordan Chanté Adams Jalon Christian...  \n",
              "6616  Zachary Levi Anna Paquin Dennis Quaid Erwin br...  \n",
              "6617  Apichatpong Weerasethakul (director/acreenplay...  \n",
              "\n",
              "[6618 rows x 7 columns]"
            ]
          },
          "execution_count": 36,
          "metadata": {},
          "output_type": "execute_result"
        }
      ],
      "source": [
        "old_df"
      ]
    },
    {
      "cell_type": "code",
      "execution_count": 37,
      "metadata": {
        "id": "P14B9e3GOZWZ"
      },
      "outputs": [
        {
          "name": "stderr",
          "output_type": "stream",
          "text": [
            "C:\\Users\\Dipanjan Dhar\\AppData\\Local\\Temp\\ipykernel_10692\\3205022339.py:1: FutureWarning: The frame.append method is deprecated and will be removed from pandas in a future version. Use pandas.concat instead.\n",
            "  final_df = old_df.append(new_df20,ignore_index=True)\n"
          ]
        }
      ],
      "source": [
        "final_df = old_df.append(new_df20,ignore_index=True)"
      ]
    },
    {
      "cell_type": "code",
      "execution_count": 38,
      "metadata": {
        "id": "0RAVcY-jOZWZ",
        "outputId": "0e87fe5f-5a7a-4792-edf3-a5027e667af0"
      },
      "outputs": [
        {
          "data": {
            "text/html": [
              "<div>\n",
              "<style scoped>\n",
              "    .dataframe tbody tr th:only-of-type {\n",
              "        vertical-align: middle;\n",
              "    }\n",
              "\n",
              "    .dataframe tbody tr th {\n",
              "        vertical-align: top;\n",
              "    }\n",
              "\n",
              "    .dataframe thead th {\n",
              "        text-align: right;\n",
              "    }\n",
              "</style>\n",
              "<table border=\"1\" class=\"dataframe\">\n",
              "  <thead>\n",
              "    <tr style=\"text-align: right;\">\n",
              "      <th></th>\n",
              "      <th>director_name</th>\n",
              "      <th>actor_1_name</th>\n",
              "      <th>actor_2_name</th>\n",
              "      <th>actor_3_name</th>\n",
              "      <th>genres</th>\n",
              "      <th>movie_title</th>\n",
              "      <th>comb</th>\n",
              "    </tr>\n",
              "  </thead>\n",
              "  <tbody>\n",
              "    <tr>\n",
              "      <th>0</th>\n",
              "      <td>James Cameron</td>\n",
              "      <td>CCH Pounder</td>\n",
              "      <td>Joel David Moore</td>\n",
              "      <td>Wes Studi</td>\n",
              "      <td>Action Adventure Fantasy Sci-Fi</td>\n",
              "      <td>avatar</td>\n",
              "      <td>CCH Pounder Joel David Moore Wes Studi James C...</td>\n",
              "    </tr>\n",
              "    <tr>\n",
              "      <th>1</th>\n",
              "      <td>Gore Verbinski</td>\n",
              "      <td>Johnny Depp</td>\n",
              "      <td>Orlando Bloom</td>\n",
              "      <td>Jack Davenport</td>\n",
              "      <td>Action Adventure Fantasy</td>\n",
              "      <td>pirates of the caribbean: at world's end</td>\n",
              "      <td>Johnny Depp Orlando Bloom Jack Davenport Gore ...</td>\n",
              "    </tr>\n",
              "    <tr>\n",
              "      <th>2</th>\n",
              "      <td>Sam Mendes</td>\n",
              "      <td>Christoph Waltz</td>\n",
              "      <td>Rory Kinnear</td>\n",
              "      <td>Stephanie Sigman</td>\n",
              "      <td>Action Adventure Thriller</td>\n",
              "      <td>spectre</td>\n",
              "      <td>Christoph Waltz Rory Kinnear Stephanie Sigman ...</td>\n",
              "    </tr>\n",
              "    <tr>\n",
              "      <th>3</th>\n",
              "      <td>Christopher Nolan</td>\n",
              "      <td>Tom Hardy</td>\n",
              "      <td>Christian Bale</td>\n",
              "      <td>Joseph Gordon-Levitt</td>\n",
              "      <td>Action Thriller</td>\n",
              "      <td>the dark knight rises</td>\n",
              "      <td>Tom Hardy Christian Bale Joseph Gordon-Levitt ...</td>\n",
              "    </tr>\n",
              "    <tr>\n",
              "      <th>4</th>\n",
              "      <td>Doug Walker</td>\n",
              "      <td>Doug Walker</td>\n",
              "      <td>Rob Walker</td>\n",
              "      <td>unknown</td>\n",
              "      <td>Documentary</td>\n",
              "      <td>star wars: episode vii - the force awakens    ...</td>\n",
              "      <td>Doug Walker Rob Walker unknown Doug Walker Doc...</td>\n",
              "    </tr>\n",
              "    <tr>\n",
              "      <th>...</th>\n",
              "      <td>...</td>\n",
              "      <td>...</td>\n",
              "      <td>...</td>\n",
              "      <td>...</td>\n",
              "      <td>...</td>\n",
              "      <td>...</td>\n",
              "      <td>...</td>\n",
              "    </tr>\n",
              "    <tr>\n",
              "      <th>6905</th>\n",
              "      <td>Damien Chazelle</td>\n",
              "      <td>Brad Pitt</td>\n",
              "      <td>Margot Robbie</td>\n",
              "      <td>Diego Calva</td>\n",
              "      <td>Drama Comedy</td>\n",
              "      <td>babylon</td>\n",
              "      <td>Brad Pitt Margot Robbie Diego Calva Damien Cha...</td>\n",
              "    </tr>\n",
              "    <tr>\n",
              "      <th>6906</th>\n",
              "      <td>Scott Cooper</td>\n",
              "      <td>Christian Bale</td>\n",
              "      <td>Harry Melling</td>\n",
              "      <td>Gillian Anderson</td>\n",
              "      <td>Crime Thriller Mystery Horror</td>\n",
              "      <td>the pale blue eye</td>\n",
              "      <td>Christian Bale Harry Melling Gillian Anderson ...</td>\n",
              "    </tr>\n",
              "    <tr>\n",
              "      <th>6907</th>\n",
              "      <td>Marc Forster</td>\n",
              "      <td>Tom Hanks</td>\n",
              "      <td>Mariana Treviño</td>\n",
              "      <td>Rachel Keller</td>\n",
              "      <td>Drama Comedy</td>\n",
              "      <td>a man called otto</td>\n",
              "      <td>Tom Hanks Mariana Treviño Rachel Keller Marc F...</td>\n",
              "    </tr>\n",
              "    <tr>\n",
              "      <th>6908</th>\n",
              "      <td>Juel Taylor</td>\n",
              "      <td>John Boyega</td>\n",
              "      <td>Teyonah Parris</td>\n",
              "      <td>Kiefer Sutherland</td>\n",
              "      <td>Science Fiction Comedy Mystery</td>\n",
              "      <td>they cloned tyrone</td>\n",
              "      <td>John Boyega Teyonah Parris Kiefer Sutherland J...</td>\n",
              "    </tr>\n",
              "    <tr>\n",
              "      <th>6909</th>\n",
              "      <td>Mary Nighy</td>\n",
              "      <td>Anna Kendrick</td>\n",
              "      <td>Kaniehtiio Horn</td>\n",
              "      <td>Charlie Carrick</td>\n",
              "      <td>Thriller Drama</td>\n",
              "      <td>alice, darling</td>\n",
              "      <td>Anna Kendrick Kaniehtiio Horn Charlie Carrick ...</td>\n",
              "    </tr>\n",
              "  </tbody>\n",
              "</table>\n",
              "<p>6910 rows × 7 columns</p>\n",
              "</div>"
            ],
            "text/plain": [
              "          director_name     actor_1_name      actor_2_name  \\\n",
              "0         James Cameron      CCH Pounder  Joel David Moore   \n",
              "1        Gore Verbinski      Johnny Depp     Orlando Bloom   \n",
              "2            Sam Mendes  Christoph Waltz      Rory Kinnear   \n",
              "3     Christopher Nolan        Tom Hardy    Christian Bale   \n",
              "4           Doug Walker      Doug Walker        Rob Walker   \n",
              "...                 ...              ...               ...   \n",
              "6905    Damien Chazelle        Brad Pitt     Margot Robbie   \n",
              "6906       Scott Cooper   Christian Bale     Harry Melling   \n",
              "6907       Marc Forster        Tom Hanks   Mariana Treviño   \n",
              "6908        Juel Taylor      John Boyega    Teyonah Parris   \n",
              "6909         Mary Nighy    Anna Kendrick   Kaniehtiio Horn   \n",
              "\n",
              "              actor_3_name                           genres  \\\n",
              "0                Wes Studi  Action Adventure Fantasy Sci-Fi   \n",
              "1           Jack Davenport         Action Adventure Fantasy   \n",
              "2         Stephanie Sigman        Action Adventure Thriller   \n",
              "3     Joseph Gordon-Levitt                  Action Thriller   \n",
              "4                  unknown                      Documentary   \n",
              "...                    ...                              ...   \n",
              "6905           Diego Calva                     Drama Comedy   \n",
              "6906      Gillian Anderson    Crime Thriller Mystery Horror   \n",
              "6907         Rachel Keller                     Drama Comedy   \n",
              "6908     Kiefer Sutherland   Science Fiction Comedy Mystery   \n",
              "6909       Charlie Carrick                   Thriller Drama   \n",
              "\n",
              "                                            movie_title  \\\n",
              "0                                                avatar   \n",
              "1              pirates of the caribbean: at world's end   \n",
              "2                                               spectre   \n",
              "3                                 the dark knight rises   \n",
              "4     star wars: episode vii - the force awakens    ...   \n",
              "...                                                 ...   \n",
              "6905                                            babylon   \n",
              "6906                                  the pale blue eye   \n",
              "6907                                  a man called otto   \n",
              "6908                                 they cloned tyrone   \n",
              "6909                                     alice, darling   \n",
              "\n",
              "                                                   comb  \n",
              "0     CCH Pounder Joel David Moore Wes Studi James C...  \n",
              "1     Johnny Depp Orlando Bloom Jack Davenport Gore ...  \n",
              "2     Christoph Waltz Rory Kinnear Stephanie Sigman ...  \n",
              "3     Tom Hardy Christian Bale Joseph Gordon-Levitt ...  \n",
              "4     Doug Walker Rob Walker unknown Doug Walker Doc...  \n",
              "...                                                 ...  \n",
              "6905  Brad Pitt Margot Robbie Diego Calva Damien Cha...  \n",
              "6906  Christian Bale Harry Melling Gillian Anderson ...  \n",
              "6907  Tom Hanks Mariana Treviño Rachel Keller Marc F...  \n",
              "6908  John Boyega Teyonah Parris Kiefer Sutherland J...  \n",
              "6909  Anna Kendrick Kaniehtiio Horn Charlie Carrick ...  \n",
              "\n",
              "[6910 rows x 7 columns]"
            ]
          },
          "execution_count": 38,
          "metadata": {},
          "output_type": "execute_result"
        }
      ],
      "source": [
        "final_df"
      ]
    },
    {
      "cell_type": "code",
      "execution_count": 39,
      "metadata": {
        "id": "gCTWwaOiOZWZ"
      },
      "outputs": [],
      "source": [
        "final_df.to_csv('new6_data.csv',index=False)"
      ]
    }
  ],
  "metadata": {
    "colab": {
      "collapsed_sections": [],
      "name": "preprocessing 4.ipynb",
      "provenance": []
    },
    "kernelspec": {
      "display_name": "Python 3.8.0 64-bit",
      "language": "python",
      "name": "python3"
    },
    "language_info": {
      "codemirror_mode": {
        "name": "ipython",
        "version": 3
      },
      "file_extension": ".py",
      "mimetype": "text/x-python",
      "name": "python",
      "nbconvert_exporter": "python",
      "pygments_lexer": "ipython3",
      "version": "3.8.0"
    },
    "vscode": {
      "interpreter": {
        "hash": "570feb405e2e27c949193ac68f46852414290d515b0ba6e5d90d076ed2284471"
      }
    }
  },
  "nbformat": 4,
  "nbformat_minor": 0
}
